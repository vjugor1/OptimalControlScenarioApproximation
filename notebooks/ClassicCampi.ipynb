{
 "cells": [
  {
   "cell_type": "code",
   "execution_count": 1,
   "metadata": {},
   "outputs": [],
   "source": [
    "import numpy as np\n",
    "import cvxpy as cp\n",
    "from scipy import stats"
   ]
  },
  {
   "cell_type": "markdown",
   "metadata": {},
   "source": [
    "Classic Campi formulation\n",
    "$$\n",
    "\\begin{aligned}\n",
    "\\texttt{min}_{x \\in \\mathbb{R}} & f(x)  \\\\\n",
    "\\texttt{s.t.} & \\gamma_i x \\leq \\beta_i - {\\alpha_i} \\cdot \\chi_j^d, \\chi_j^d \\sim N(0, I_n),  j= 1,\\dots, N \\\\\n",
    "\\end{aligned}\n",
    "$$\n"
   ]
  },
  {
   "cell_type": "code",
   "execution_count": 8,
   "metadata": {},
   "outputs": [],
   "source": [
    "def normalize_ineqs(A, b):\n",
    "    norms = np.linalg.norm(A, axis=1)\n",
    "    return A / norms.reshape(A.shape[0], 1), b / norms\n",
    "def scenario_approximation_constraints(gamma, beta, alpha, samples):\n",
    "    Gamma = np.concatenate([gamma for i in range(samples.shape[0])], axis=0)\n",
    "    print(\"Gamma : {}\".format(len(alpha)))\n",
    "    print(\"sample : {}\".format(len(samples[0])))\n",
    "    print(\"beta : {}\".format(len(beta)))\n",
    "    Beta = np.concatenate([beta - alpha.T @ samples[i] for i in range(samples.shape[0])], axis=0)\n",
    "    return Gamma, Beta"
   ]
  },
  {
   "cell_type": "code",
   "execution_count": 12,
   "metadata": {},
   "outputs": [
    {
     "name": "stdout",
     "output_type": "stream",
     "text": [
      "Gamma : 2\n",
      "sample : 2\n",
      "beta : 2\n",
      "[1.] 4.10485607021374\n",
      "\n",
      "Objective function value is -4.104856052262742\n",
      "A solution x is\n",
      "[4.10485605]\n"
     ]
    }
   ],
   "source": [
    "# CVXPY part formulation\n",
    "\n",
    "N = 1\n",
    "eta = 0.01\n",
    "d = 2\n",
    "gamma = 2\n",
    "gamma_ = np.array([[gamma], [-gamma]])\n",
    "beta = 8\n",
    "beta_ = np.array([beta, beta])\n",
    "gamma, beta = normalize_ineqs(gamma_, beta_)\n",
    "alpha = gamma\n",
    "#c = np.random.randint(d)\n",
    "c = [-1]*N\n",
    "\n",
    "\n",
    "x = cp.Variable(N)\n",
    "func = c@x\n",
    "chi = np.random.multivariate_normal(np.zeros(d), np.eye(d), size=N) \n",
    "SA_Gamma, SA_Beta = scenario_approximation_constraints(gamma, beta, alpha, chi)\n",
    "print(SA_Gamma[0], SA_Beta[0])\n",
    "\n",
    "constraints = []\n",
    "for i in range(len(SA_Gamma) - 1):\n",
    "    constraints += [SA_Gamma[i] @ x <= SA_Beta[i]]\n",
    "\n",
    "prob = cp.Problem(cp.Minimize(func), constraints)\n",
    "prob.solve()\n",
    "\n",
    "print(\"\\nObjective function value is\", prob.value)\n",
    "print(\"A solution x is\")\n",
    "print(x.value)"
   ]
  },
  {
   "cell_type": "markdown",
   "metadata": {},
   "source": [
    "Now scenario approximation with slack constraints\n",
    "\n",
    "$$\n",
    "\\begin{aligned}\n",
    "\\texttt{min}_{x \\in \\mathbb{R}} & f(x)  \\\\\n",
    "\\texttt{s.t.} & \\gamma_i x \\leq \\beta_i - {\\alpha_i} \\cdot \\chi_j^d, \\\\\n",
    "&\\chi_j^d \\sim N(0, I_n),  j= 1,\\dots, N \\\\\n",
    "& x \\in \\mathcal{O} = \\left\\{ x: \\forall ~ i ~ \\gamma_i x \\leq \\beta_i + \\Phi^{-1}(\\eta) \\right\\}\n",
    "\\end{aligned}\n",
    "$$"
   ]
  },
  {
   "cell_type": "code",
   "execution_count": 15,
   "metadata": {},
   "outputs": [
    {
     "name": "stdout",
     "output_type": "stream",
     "text": [
      "Gamma : 2\n",
      "sample : 2\n",
      "beta : 2\n",
      "\n",
      "Objective function value is -5.4175503807897964\n",
      "A solution x is\n",
      "[5.41755038]\n"
     ]
    }
   ],
   "source": [
    "# CVXPY part formulation\n",
    "\n",
    "N = 1\n",
    "eta = 0.01\n",
    "d = 2\n",
    "gamma = 2\n",
    "gamma_ = np.array([[gamma], [-gamma]])\n",
    "beta = 8\n",
    "beta_ = np.array([beta, beta])\n",
    "gamma, beta = normalize_ineqs(gamma_, beta_)\n",
    "alpha = gamma\n",
    "#c = np.random.randint(d)\n",
    "c = [-1]*N\n",
    "\n",
    "\n",
    "x = cp.Variable(N)\n",
    "func = c@x\n",
    "chi = np.random.multivariate_normal(np.zeros(d), np.eye(d), size=N)\n",
    "Phi_inv = stats.norm.ppf(eta)\n",
    "beta_O = beta + Phi_inv\n",
    "SA_Gamma, SA_Beta = scenario_approximation_constraints(gamma, beta, alpha, chi)\n",
    "SCSA_Gamma = np.concatenate([SA_Gamma, gamma], axis=0)\n",
    "SCSA_Beta = np.concatenate([SA_Beta, beta_O], axis=0)\n",
    "#print(SA_Gamma, SA_Beta)\n",
    "\n",
    "constraints = []\n",
    "for i in range(len(SA_Gamma) - 1):\n",
    "    constraints += [SA_Gamma[i] @ x <= SA_Beta[i]]\n",
    "\n",
    "prob = cp.Problem(cp.Minimize(func), constraints)\n",
    "prob.solve()\n",
    "\n",
    "print(\"\\nObjective function value is\", prob.value)\n",
    "print(\"A solution x is\")\n",
    "print(x.value)"
   ]
  }
 ],
 "metadata": {
  "kernelspec": {
   "display_name": "Python 3",
   "language": "python",
   "name": "python3"
  },
  "language_info": {
   "codemirror_mode": {
    "name": "ipython",
    "version": 3
   },
   "file_extension": ".py",
   "mimetype": "text/x-python",
   "name": "python",
   "nbconvert_exporter": "python",
   "pygments_lexer": "ipython3",
   "version": "3.8.3"
  }
 },
 "nbformat": 4,
 "nbformat_minor": 4
}
