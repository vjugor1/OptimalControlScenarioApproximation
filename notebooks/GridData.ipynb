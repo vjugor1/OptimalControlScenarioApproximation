{
 "cells": [
  {
   "cell_type": "code",
   "execution_count": 1,
   "metadata": {},
   "outputs": [],
   "source": [
    "import sys\n",
    "sys.path.append('..')\n",
    "from src.data_utils import grid_data\n",
    "import numpy as np"
   ]
  },
  {
   "cell_type": "markdown",
   "metadata": {},
   "source": [
    "# How to use grid data?"
   ]
  },
  {
   "cell_type": "markdown",
   "metadata": {},
   "source": [
    "## See grids available"
   ]
  },
  {
   "cell_type": "code",
   "execution_count": 2,
   "metadata": {},
   "outputs": [
    {
     "name": "stdout",
     "output_type": "stream",
     "text": [
      "['grid4', 'grid6', 'grid14', 'grid24', 'grid30', 'grid39', 'grid57', 'grid89', 'grid118', 'grid118i', 'grid145', 'grid200', 'grid300', 'grid1354', 'grid1888', 'grid2224', 'grid2848', 'grid2869', 'grid3120', 'grid6470', 'grid6495', 'grid6515', 'grid9241']\n"
     ]
    }
   ],
   "source": [
    "grid_data.available_grids()\n"
   ]
  },
  {
   "cell_type": "markdown",
   "metadata": {},
   "source": [
    "## Choose grid and solve\n",
    "### You also can check if problem was extracted correctly\n",
    "\n",
    "`check_pp_vs_new_form=True` argument will solve linprog with extracted constraints and objective and compare solution with pandapower native solution"
   ]
  },
  {
   "cell_type": "code",
   "execution_count": 3,
   "metadata": {},
   "outputs": [
    {
     "name": "stderr",
     "output_type": "stream",
     "text": [
      "gen vm_pu > bus max_vm_pu for gens [3 4]. Setting bus limit for these gens.\n"
     ]
    },
    {
     "name": "stdout",
     "output_type": "stream",
     "text": [
      "sol from pandapower proximity: [-8.58207573e-01  8.58207573e-01  3.30175471e-12  3.30175471e-12\n",
      "  3.30175471e-12  3.30175471e-12]\n",
      "cost from this method: 5667.999999999996\n",
      "cost from pandapower: 5668.00000002642\n",
      "Generators: 7\n",
      "Constraints: 176\n",
      "Check feasibility: True\n"
     ]
    },
    {
     "name": "stderr",
     "output_type": "stream",
     "text": [
      "/Users/aleks/opt/anaconda3/envs/py39_scenario/lib/python3.9/site-packages/pandapower/pypower/opf_model.py:494: ComplexWarning: Casting complex values to real discards the imaginary part\n",
      "  Ai[:, j1:jN] = Ak[:, k1:kN].todense()\n",
      "/Users/aleks/opt/anaconda3/envs/py39_scenario/lib/python3.9/site-packages/pandapower/pypower/opf_model.py:498: ComplexWarning: Casting complex values to real discards the imaginary part\n",
      "  l[i1:iN] = self.lin[\"data\"][\"l\"][name]\n",
      "/Users/aleks/opt/anaconda3/envs/py39_scenario/lib/python3.9/site-packages/pandapower/pypower/opf_model.py:499: ComplexWarning: Casting complex values to real discards the imaginary part\n",
      "  u[i1:iN] = self.lin[\"data\"][\"u\"][name]\n",
      "/Users/aleks/opt/anaconda3/envs/py39_scenario/lib/python3.9/site-packages/scipy/optimize/_linprog.py:604: OptimizeWarning: x0 is used only when method is 'revised simplex'. \n",
      "  warn(warning_message, OptimizeWarning)\n",
      "/Users/aleks/Documents/study/phd/scenario_importance_sampling/GitHub/notebooks/../src/data_utils/grid_data.py:347: OptimizeWarning: The pivot operation produces a pivot value of: 1.0e+00, which is only slightly greater than the specified tolerance 9.0e-04. This may lead to issues regarding the numerical stability of the simplex method. Removing redundant constraints, changing the pivot strategy via Bland's rule or increasing the tolerance may help reduce the issue.\n",
      "  res_hands_new = optim.linprog(\n"
     ]
    }
   ],
   "source": [
    "grid_name = 'grid30'\n",
    "\n",
    "W, b, gens, cost_coeffs, cost_correction_term, cost_dc_opf = grid_data.get_linear_constraints(grid_name, check_pp_vs_new_form=True)\n",
    "x0 = gens[1:]\n",
    "print(\"Generators:\", len(gens)+1)\n",
    "print(\"Constraints:\", W.shape[0])\n",
    "print(\"Check feasibility:\", np.max(W.dot(x0) - b) < 0)"
   ]
  }
 ],
 "metadata": {
  "interpreter": {
   "hash": "df2a533062e8d3ba6ebd0d207137167ca0f988fc44eaba342be423797c38fdb2"
  },
  "kernelspec": {
   "display_name": "Python 3.10.2 ('python_env')",
   "language": "python",
   "name": "python3"
  },
  "language_info": {
   "codemirror_mode": {
    "name": "ipython",
    "version": 3
   },
   "file_extension": ".py",
   "mimetype": "text/x-python",
   "name": "python",
   "nbconvert_exporter": "python",
   "pygments_lexer": "ipython3",
   "version": "3.9.7"
  },
  "orig_nbformat": 4
 },
 "nbformat": 4,
 "nbformat_minor": 2
}
