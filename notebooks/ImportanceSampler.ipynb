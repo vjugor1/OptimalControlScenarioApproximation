{
 "cells": [
  {
   "cell_type": "code",
   "execution_count": 1,
   "metadata": {},
   "outputs": [],
   "source": [
    "import sys\n",
    "sys.path.append('..')\n",
    "from src.samplers.importance_sampler import *"
   ]
  },
  {
   "cell_type": "markdown",
   "metadata": {},
   "source": [
    "# Demonstration of how to use importance sampler"
   ]
  },
  {
   "cell_type": "markdown",
   "metadata": {},
   "source": [
    ">1. Give some matrix and vector - define hyperplanes\n",
    ">2. !!NB!!\n",
    "> * normal vector must have identitity L2 norm \n",
    "> *  Gaussian samples are standard ones\n",
    "> * Thus, you standartize Gaussian vector and norm system first"
   ]
  },
  {
   "cell_type": "code",
   "execution_count": 2,
   "metadata": {},
   "outputs": [],
   "source": [
    "A = np.array([\n",
    "    [1, 0],\n",
    "    [0, 1], \n",
    "    [-1 / np.sqrt(2), -1 / np.sqrt(2)]\n",
    "])\n",
    "b = np.array([1, 1, 1])"
   ]
  },
  {
   "cell_type": "code",
   "execution_count": 3,
   "metadata": {},
   "outputs": [
    {
     "data": {
      "text/plain": [
       "True"
      ]
     },
     "execution_count": 3,
     "metadata": {},
     "output_type": "execute_result"
    }
   ],
   "source": [
    "\n",
    "np.allclose(np.linalg.norm(A, axis=1), np.ones(A.shape[0]))"
   ]
  },
  {
   "cell_type": "markdown",
   "metadata": {},
   "source": [
    "# Create sampler instance\n",
    "And obtain samples via generator"
   ]
  },
  {
   "cell_type": "code",
   "execution_count": 4,
   "metadata": {},
   "outputs": [
    {
     "data": {
      "text/plain": [
       "array([-0.81238576, -0.86924853])"
      ]
     },
     "execution_count": 4,
     "metadata": {},
     "output_type": "execute_result"
    }
   ],
   "source": [
    "sampler = ConditionedPolytopeGaussianSampler(A, b)\n",
    "generator = sampler.sample()\n",
    "next(generator)"
   ]
  },
  {
   "cell_type": "markdown",
   "metadata": {},
   "source": [
    "# Check that samples are valid\n",
    "Sample 10000 and check that each one violated at least one hyperplane.\n",
    "\n",
    "Count the samples that violated no hyperplanes\n",
    "\n",
    "Correct output is `0`"
   ]
  },
  {
   "cell_type": "code",
   "execution_count": 5,
   "metadata": {},
   "outputs": [
    {
     "name": "stdout",
     "output_type": "stream",
     "text": [
      "Number of samples that violated nothing:  0\n"
     ]
    }
   ],
   "source": [
    "s = 0\n",
    "for i in range(10000):\n",
    "    g = next(generator)\n",
    "    s += ((A.dot(g) - b) < 0).all()\n",
    "print(\"Number of samples that violated nothing: \", s)\n"
   ]
  }
 ],
 "metadata": {
  "interpreter": {
   "hash": "df2a533062e8d3ba6ebd0d207137167ca0f988fc44eaba342be423797c38fdb2"
  },
  "kernelspec": {
   "display_name": "Python 3.10.2 ('python_env')",
   "language": "python",
   "name": "python3"
  },
  "language_info": {
   "codemirror_mode": {
    "name": "ipython",
    "version": 3
   },
   "file_extension": ".py",
   "mimetype": "text/x-python",
   "name": "python",
   "nbconvert_exporter": "python",
   "pygments_lexer": "ipython3",
   "version": "3.10.2"
  },
  "orig_nbformat": 4
 },
 "nbformat": 4,
 "nbformat_minor": 2
}
