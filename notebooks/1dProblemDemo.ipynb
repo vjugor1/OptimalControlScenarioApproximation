{
 "cells": [
  {
   "cell_type": "code",
   "execution_count": 1,
   "metadata": {},
   "outputs": [],
   "source": [
    "import numpy as np\n",
    "from matplotlib import pyplot as plt\n",
    "import scipy.optimize as optim\n",
    "from scipy import stats\n",
    "\n",
    "import sys\n",
    "sys.path.append('..')\n",
    "\n",
    "from src.samplers.importance_sampler import *\n",
    "from src.samplers import preprocessing as pre\n",
    "from src.solvers import scenario_approx as SA\n"
   ]
  },
  {
   "cell_type": "markdown",
   "metadata": {},
   "source": [
    "# Slack-constrained scenario optimization\n",
    "$$\n",
    "\\begin{aligned}\n",
    "\\texttt{min}_{x \\in \\mathbb{R}} & -x  \\\\\n",
    "\\texttt{s.t.}  & \\gamma_i x \\leq \\beta_i - \\underset{=1}{\\underbrace{a_i}} \\cdot \\chi_j^d, ~ j= 1,\\dots, N \\\\\n",
    "               & x \\in \\mathcal{O} = \\left\\{ x: \\forall ~ i ~ \\gamma_i x \\leq \\beta_i + \\Phi^{-1}(\\eta) \\right\\}\n",
    "\\end{aligned}\n",
    "$$\n",
    "\n",
    "> In total, constraints imply the following relation on samples $\\chi^d_j$:\n",
    "$$\n",
    "\\forall ~ j ~ \\chi^d_j \\in \\mathcal{P} = \\left\\{ \\chi : ~ \\chi \\leq - \\Phi^{-1}(\\eta) \\right\\}\n",
    "$$\n",
    "> Note that $-\\Phi^{-1}(\\eta) > 0$ for $\\eta < 0.5$ - of interest\n",
    "\n",
    "# SAIMIN\n",
    "We generate samples for scenario approximation outside of $\\mathcal{P}$, assuming nominal distribution of $\\chi$ to be normal standard"
   ]
  },
  {
   "cell_type": "code",
   "execution_count": 2,
   "metadata": {},
   "outputs": [],
   "source": [
    "gamma = 2\n",
    "Gamma_ = np.array([[gamma], [-gamma]])\n",
    "beta = 8\n",
    "Beta_ = np.array([beta, beta])\n",
    "c = [-1]\n",
    "\n",
    "Gamma, Beta = pre.normalize_ineqs(Gamma_, Beta_)\n",
    "A = Gamma"
   ]
  },
  {
   "cell_type": "markdown",
   "metadata": {},
   "source": [
    "# Deterministic problem"
   ]
  },
  {
   "cell_type": "code",
   "execution_count": 3,
   "metadata": {},
   "outputs": [
    {
     "name": "stdout",
     "output_type": "stream",
     "text": [
      "x = 4.0\n",
      "objective = -4.0\n"
     ]
    }
   ],
   "source": [
    "res_det = optim.linprog(c=c, A_ub=Gamma, b_ub=Beta)\n",
    "print(\"x = {}\".format(res_det.x[0]))\n",
    "print(\"objective = {}\".format(res_det.fun))"
   ]
  },
  {
   "cell_type": "markdown",
   "metadata": {},
   "source": [
    "# Slack constrained scenario approximation"
   ]
  },
  {
   "cell_type": "code",
   "execution_count": 4,
   "metadata": {},
   "outputs": [],
   "source": [
    "N = 10\n",
    "eta = 0.01\n",
    "samples = np.random.multivariate_normal(np.zeros(1), np.eye(1), size=N)\n",
    "\n",
    "\n",
    "SCSA_Gamma, SCSA_Beta = SA.get_scenario_approx_constraints(Gamma, Beta, A, samples, True, eta)"
   ]
  },
  {
   "cell_type": "code",
   "execution_count": 5,
   "metadata": {},
   "outputs": [
    {
     "name": "stdout",
     "output_type": "stream",
     "text": [
      "x = 1.6736521259591592\n",
      "objective = -1.6736521259591592\n",
      "Optimization succeeded:  True\n"
     ]
    }
   ],
   "source": [
    "res_SCSA = optim.linprog(c, A_ub=SCSA_Gamma, b_ub=SCSA_Beta)\n",
    "print(\"SA with \\cO\")\n",
    "print(\"x = {}\".format(res_SCSA.x[0]))\n",
    "print(\"objective = {}\".format(res_SCSA.fun))\n",
    "print(\"Optimization succeeded: \", res_SCSA.success)"
   ]
  },
  {
   "cell_type": "code",
   "execution_count": 21,
   "metadata": {},
   "outputs": [
    {
     "name": "stdout",
     "output_type": "stream",
     "text": [
      "x = 3.690366945353081\n",
      "objective = -3.690366945353081\n",
      "Optimization succeeded:  True\n"
     ]
    }
   ],
   "source": [
    "SCSA_Gamma_no_O, SCSA_Beta_no_O = SA.get_scenario_approx_constraints(Gamma, Beta, A, samples, False, eta)\n",
    "res_SCSA_no_O = optim.linprog(c, A_ub=SCSA_Gamma_no_O, b_ub=SCSA_Beta_no_O)\n",
    "print(\"SA without \\cO\")\n",
    "print(\"x = {}\".format(res_SCSA_no_O.x[0]))\n",
    "print(\"objective = {}\".format(res_SCSA_no_O.fun))\n",
    "print(\"Optimization succeeded: \", res_SCSA_no_O.success)"
   ]
  },
  {
   "cell_type": "code",
   "execution_count": 18,
   "metadata": {},
   "outputs": [],
   "source": [
    "N = 10\n",
    "eta = 0.01\n",
    "Phi_inv = stats.norm.ppf(eta)\n",
    "Beta_P = np.ones(len(Beta)) * (- Phi_inv)\n",
    "sampler = ConditionedPolytopeGaussianSampler(A, Beta_P)\n",
    "generator = sampler.sample()\n",
    "samples_SAIMIN = np.array([next(generator) for s in range(N)])\n",
    "\n",
    "SAIMIN_Gamma, SAIMIN_Beta = SA.get_scenario_approx_constraints(Gamma, Beta, A, samples_SAIMIN, True, eta)"
   ]
  },
  {
   "cell_type": "code",
   "execution_count": 19,
   "metadata": {},
   "outputs": [],
   "source": [
    "SAIMIN_Gamma_no_O, SAIMIN_Beta_no_O = SA.get_scenario_approx_constraints(Gamma, Beta, A, samples_SAIMIN, False, eta)"
   ]
  },
  {
   "cell_type": "code",
   "execution_count": 20,
   "metadata": {},
   "outputs": [
    {
     "name": "stdout",
     "output_type": "stream",
     "text": [
      "x = 0.9766586830904727\n",
      "objective = -0.9766586830904727\n",
      "Optimization succeeded:  True\n",
      "x = 0.9766586830904727\n",
      "objective = -0.9766586830904727\n",
      "Optimization succeeded:  True\n"
     ]
    }
   ],
   "source": [
    "res_SAIMIN = optim.linprog(c, A_ub=SAIMIN_Gamma, b_ub=SAIMIN_Beta)\n",
    "print(\"SAIMIN with \\cO\")\n",
    "print(\"x = {}\".format(res_SAIMIN.x[0]))\n",
    "print(\"objective = {}\".format(res_SAIMIN.fun))\n",
    "print(\"Optimization succeeded: \", res_SAIMIN.success)\n",
    "\n",
    "res_SAIMIN_no_O = optim.linprog(c, A_ub=SAIMIN_Gamma_no_O, b_ub=SAIMIN_Beta_no_O)\n",
    "print(\"SAIMIN without \\cO\")\n",
    "print(\"x = {}\".format(res_SAIMIN_no_O.x[0]))\n",
    "print(\"objective = {}\".format(res_SAIMIN_no_O.fun))\n",
    "print(\"Optimization succeeded: \", res_SAIMIN_no_O.success)"
   ]
  },
  {
   "cell_type": "code",
   "execution_count": 28,
   "metadata": {},
   "outputs": [
    {
     "data": {
      "text/plain": [
       "<matplotlib.legend.Legend at 0x7faaf8e5a8e0>"
      ]
     },
     "execution_count": 28,
     "metadata": {},
     "output_type": "execute_result"
    },
    {
     "data": {
      "image/png": "[encoded data removed]",
      "text/plain": [
       "<Figure size 1080x360 with 1 Axes>"
      ]
     },
     "metadata": {
      "needs_background": "light"
     },
     "output_type": "display_data"
    }
   ],
   "source": [
    "plt.figure(figsize=(15, 5))\n",
    "plt.vlines([-beta / gamma, beta / gamma], ymin=-1, ymax=1)\n",
    "plt.vlines([-SCSA_Beta[-2], SCSA_Beta[-1]], ymin=-1, ymax=1, label='\\cO', color='grey', linestyle='dotted')\n",
    "plt.hlines([0], xmin=-beta/gamma - 1, xmax=beta/gamma + 1, linestyle='dotted')\n",
    "plt.scatter(x=[res_SCSA.x[0]], y=[0], color='purple', label='SCSA', alpha=0.8)\n",
    "plt.scatter(x=[res_SCSA_no_O.x[0]], y=[0], color='pink', label='SCSA no O', alpha=0.8)\n",
    "plt.scatter(x=[res_det.x[0]], y=[0], color='black', label='deterministic')\n",
    "plt.scatter(x=[res_SAIMIN_no_O.x[0]], y=[0], color='blue', label='SAIMIN no \\cO', alpha=0.8)\n",
    "plt.scatter(x=[res_SAIMIN.x[0]], y=[0], color='green', label='SAIMIN', alpha=0.8)\n",
    "plt.legend()"
   ]
  },
  {
   "cell_type": "markdown",
   "metadata": {},
   "source": [
    "# Let us check what happens with samples and $\\mathcal{P}$"
   ]
  },
  {
   "cell_type": "code",
   "execution_count": 17,
   "metadata": {},
   "outputs": [
    {
     "data": {
      "text/plain": [
       "[True, True, True, True, True, True, True, True, True, True]"
      ]
     },
     "execution_count": 17,
     "metadata": {},
     "output_type": "execute_result"
    }
   ],
   "source": [
    "[((A.dot(samples_SAIMIN[i]) - Beta_P) > 0).any()  for i in range(N)]"
   ]
  },
  {
   "cell_type": "markdown",
   "metadata": {},
   "source": [
    "# Dope plot idea\n",
    "Box plots for solution of scenario approx"
   ]
  }
 ],
 "metadata": {
  "interpreter": {
   "hash": "d444a3350dc4e2327094db8cadbbcafc9f4054d613116ca79683144239545e79"
  },
  "kernelspec": {
   "display_name": "Python 3.9.7 ('py39_scenario')",
   "language": "python",
   "name": "python3"
  },
  "language_info": {
   "codemirror_mode": {
    "name": "ipython",
    "version": 3
   },
   "file_extension": ".py",
   "mimetype": "text/x-python",
   "name": "python",
   "nbconvert_exporter": "python",
   "pygments_lexer": "ipython3",
   "version": "3.9.7"
  },
  "orig_nbformat": 4
 },
 "nbformat": 4,
 "nbformat_minor": 2
}
