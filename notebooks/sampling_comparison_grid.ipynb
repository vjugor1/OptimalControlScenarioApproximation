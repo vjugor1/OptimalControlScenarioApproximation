{
 "cells": [
  {
   "cell_type": "code",
   "execution_count": 1,
   "metadata": {},
   "outputs": [],
   "source": [
    "import numpy as np\n",
    "from matplotlib import pyplot as plt\n",
    "import scipy.optimize as optim\n",
    "from scipy import stats\n",
    "import cvxpy as cp\n",
    "from tqdm import tqdm\n",
    "import json\n",
    "import os\n",
    "import sys\n",
    "import seaborn as sns\n",
    "import pandas as pd\n",
    "sys.path.append('..')\n",
    "\n",
    "from src.samplers.importance_sampler import *\n",
    "from src.data_utils import grid_data\n",
    "from src.samplers.utils import check_feasibility_out_of_sample\n",
    "from src.samplers import preprocessing as pre\n",
    "from src.data_utils import synthetic as synth\n",
    "from src.solvers import scenario_approx as SA\n",
    "from src.solvers import utils as SU\n",
    "from src.solvers import analytical_approx as AA\n",
    "from src.samplers import utils as sampling"
   ]
  },
  {
   "cell_type": "code",
   "execution_count": 2,
   "metadata": {},
   "outputs": [
    {
     "data": {
      "text/plain": [
       "array([  3,  93, 183, 273, 363, 453, 543, 633])"
      ]
     },
     "execution_count": 2,
     "metadata": {},
     "output_type": "execute_result"
    }
   ],
   "source": [
    "import numpy as np\n",
    "N0 = 3\n",
    "ks = list(range(1, 221))[::30]\n",
    "np.array(ks) * N0#[-1] * 3"
   ]
  },
  {
   "cell_type": "code",
   "execution_count": 3,
   "metadata": {},
   "outputs": [
    {
     "name": "stderr",
     "output_type": "stream",
     "text": [
      "/Users/aleks/opt/anaconda3/envs/py39_scenario/lib/python3.9/site-packages/pandapower/pypower/opf_model.py:494: ComplexWarning: Casting complex values to real discards the imaginary part\n",
      "  Ai[:, j1:jN] = Ak[:, k1:kN].todense()\n",
      "/Users/aleks/opt/anaconda3/envs/py39_scenario/lib/python3.9/site-packages/pandapower/pypower/opf_model.py:498: ComplexWarning: Casting complex values to real discards the imaginary part\n",
      "  l[i1:iN] = self.lin[\"data\"][\"l\"][name]\n",
      "/Users/aleks/opt/anaconda3/envs/py39_scenario/lib/python3.9/site-packages/pandapower/pypower/opf_model.py:499: ComplexWarning: Casting complex values to real discards the imaginary part\n",
      "  u[i1:iN] = self.lin[\"data\"][\"u\"][name]\n"
     ]
    },
    {
     "name": "stdout",
     "output_type": "stream",
     "text": [
      "6 9\n",
      "0 6\n",
      "[[ 13.33333333  -5.           0.          -5.          -3.33333333\n",
      "    0.          -1.           0.           0.        ]\n",
      " [ -5.          27.33333333  -4.         -10.          -3.33333333\n",
      "   -5.           0.          -1.           0.        ]\n",
      " [  0.          -4.          17.84615385   0.          -3.84615385\n",
      "  -10.           0.           0.          -1.        ]\n",
      " [ -5.         -10.           0.          17.5         -2.5\n",
      "    0.           0.           0.           0.        ]\n",
      " [ -3.33333333  -3.33333333  -3.84615385  -2.5         16.34615385\n",
      "   -3.33333333   0.           0.           0.        ]\n",
      " [  0.          -5.         -10.           0.          -3.33333333\n",
      "   18.33333333   0.           0.           0.        ]]\n",
      "cost from pandapower: 2259.2300000183163\n",
      "[[-0.4706239  -0.40256295]\n",
      " [-0.31488938 -0.29487146]\n",
      " [-0.21448672 -0.30256559]\n",
      " [ 0.05444876 -0.34155359]\n",
      " [ 0.31146904  0.21538299]\n",
      " [ 0.09926255 -0.03419029]\n",
      " [ 0.06419576 -0.24220207]\n",
      " [ 0.06217914  0.28896658]\n",
      " [-0.00773038  0.36947983]\n",
      " [-0.00342035 -0.07948846]\n",
      " [-0.05646538 -0.12727776]\n",
      " [ 0.4706239   0.40256295]\n",
      " [ 0.31488938  0.29487146]\n",
      " [ 0.21448672  0.30256559]\n",
      " [-0.05444876  0.34155359]\n",
      " [-0.31146904 -0.21538299]\n",
      " [-0.09926255  0.03419029]\n",
      " [-0.06419576  0.24220207]\n",
      " [-0.06217914 -0.28896658]\n",
      " [ 0.00773038 -0.36947983]\n",
      " [ 0.00342035  0.07948846]\n",
      " [ 0.05646538  0.12727776]\n",
      " [-1.         -1.        ]\n",
      " [ 1.          0.        ]\n",
      " [ 0.          1.        ]\n",
      " [ 0.4706239   0.40256295]\n",
      " [ 0.31488938  0.29487146]\n",
      " [ 0.21448672  0.30256559]\n",
      " [-0.05444876  0.34155359]\n",
      " [-0.31146904 -0.21538299]\n",
      " [-0.09926255  0.03419029]\n",
      " [-0.06419576  0.24220207]\n",
      " [-0.06217914 -0.28896658]\n",
      " [ 0.00773038 -0.36947983]\n",
      " [ 0.00342035  0.07948846]\n",
      " [ 0.05646538  0.12727776]\n",
      " [-0.4706239  -0.40256295]\n",
      " [-0.31488938 -0.29487146]\n",
      " [-0.21448672 -0.30256559]\n",
      " [ 0.05444876 -0.34155359]\n",
      " [ 0.31146904  0.21538299]\n",
      " [ 0.09926255 -0.03419029]\n",
      " [ 0.06419576 -0.24220207]\n",
      " [ 0.06217914  0.28896658]\n",
      " [-0.00773038  0.36947983]\n",
      " [-0.00342035 -0.07948846]\n",
      " [-0.05646538 -0.12727776]\n",
      " [ 1.          1.        ]\n",
      " [-1.         -0.        ]\n",
      " [-0.         -1.        ]] [-3.30133321e-01 -1.50039212e-01 -2.19827467e-01  2.03755132e-01\n",
      "  5.60188218e-01  1.66928080e-01  5.38995248e-01  7.35152466e-01\n",
      "  5.68602666e-01  1.10149006e-01  2.92402085e-01  1.13013332e+00\n",
      "  1.35003921e+00  1.01982747e+00  5.96244868e-01  6.39811782e-01\n",
      "  4.33071920e-01  1.26100475e+00  6.64847534e-01  1.03139733e+00\n",
      "  2.89850994e-01  5.07597915e-01 -1.00000000e-01  1.50000000e+00\n",
      "  1.80000000e+00  1.00000000e+10  1.00000000e+10  1.00000000e+10\n",
      "  1.00000000e+10  1.00000000e+10  1.00000000e+10  1.00000000e+10\n",
      "  1.00000000e+10  1.00000000e+10  1.00000000e+10  1.00000000e+10\n",
      "  1.00000000e+10  1.00000000e+10  1.00000000e+10  1.00000000e+10\n",
      "  1.00000000e+10  1.00000000e+10  1.00000000e+10  1.00000000e+10\n",
      "  1.00000000e+10  1.00000000e+10  1.00000000e+10  1.60000000e+00\n",
      " -3.75000000e-01 -4.50000000e-01]\n",
      "50 50\n",
      "50\n"
     ]
    }
   ],
   "source": [
    "\n",
    "#Gamma, Beta = synth.regular_polyhedron(10, 6)\n",
    "grid_name = 'grid6'\n",
    "\n",
    "Gamma, Beta, gens, cost_coeffs, cost_correction_term, cost_dc_opf = grid_data.get_linear_constraints(grid_name, check_pp_vs_new_form=False)\n",
    "x0 = gens[1:]\n",
    "alpha_0 = np.ones(len(x0)) / len(x0)#np.array([0.5, 0.5])\n",
    "x0 = np.hstack((x0, alpha_0))\n",
    "print(Gamma, Beta)\n",
    "mu = np.zeros(len(gens) - 1)\n",
    "Sigma = np.eye(len(gens) - 1) * 0.01 \n",
    "# making matrix psd\n",
    "Sigma = Sigma.dot(Sigma.T)\n",
    "#A = Gamma\n",
    "Gamma, Beta, A = pre.standartize(Gamma, Beta, mu, Sigma)\n",
    "print(len(Gamma), len(Beta))\n",
    "J = Gamma.shape[0]\n",
    "print(len(A))\n",
    "c = cost_coeffs\n",
    "c = np.hstack((c, np.zeros(len(c))))"
   ]
  },
  {
   "cell_type": "code",
   "execution_count": 17,
   "metadata": {},
   "outputs": [
    {
     "data": {
      "text/plain": [
       "array([0.5 , 1.15, 0.45])"
      ]
     },
     "execution_count": 17,
     "metadata": {},
     "output_type": "execute_result"
    }
   ],
   "source": [
    "gens"
   ]
  },
  {
   "cell_type": "code",
   "execution_count": 98,
   "metadata": {},
   "outputs": [],
   "source": [
    "eta = 0.01"
   ]
  },
  {
   "cell_type": "code",
   "execution_count": 99,
   "metadata": {},
   "outputs": [],
   "source": [
    "\n",
    "# mu = np.zeros(2)\n",
    "# Sigma = np.diag(alpha_0 ** 2)#np.array([[1, 0], [0, 1]]) * 0.1\n",
    "# Sigma\n",
    "\n",
    "\n",
    "T = 3 # time snapshots\n",
    "Gamma_snapshots = []\n",
    "Beta_snapshots = []\n",
    "A_snapshots = []\n",
    "Beta_P_snapshots = []\n",
    "# Gamma_s, Beta_s, _ = ss.get_snapshots_planes(\n",
    "#         Gamma, Beta, np.ones((T, Gamma.shape[1])), None, T\n",
    "#     )\n",
    "sigmas_sq = np.ones((T, Gamma.shape[1])) * 0.02\n",
    "Sigma = sigmas_sq\n",
    "kappa_t = sigmas_sq.cumsum()[Gamma.shape[1] - 1 :][\n",
    "        ::Gamma.shape[1]\n",
    "    ]  # equivalent to np.array([sigmas[:i, :] for i in range(T)])\n",
    "# assert np.allclose(chi_t, np.array([sigmas_sq[:i, :] for i in range(1,T)]))\n",
    "t_factors = np.sqrt(kappa_t)\n",
    "# for t in range(T):\n",
    "#     Sigma = np.diag(alpha_0 ** 2)\n",
    "#     Sigma = Sigma * t_factors[t]\n",
    "#     Gamma_snapshot, Beta_snapshot, A_snapshot = pre.standartize(Gamma, Beta, mu, Sigma, standartize_ineqs=True)\n",
    "#     Gamma_snapshots.append(Gamma_snapshot)\n",
    "#     Beta_snapshots.append(Beta_snapshot)\n",
    "#     A_snapshots.append(A_snapshot)\n",
    "#     Phi_inv = stats.norm.ppf(1-eta)\n",
    "#     Beta_P = +np.ones(J) * (-Phi_inv) + Beta_snapshot\n",
    "#     Beta_P_snapshots.append(Beta_P)\n",
    "    \n",
    "Pi_tau_sample, Delta_poly = sampling.get_sampling_poly(Gamma, Beta, alpha_0, T, eta, sigmas_sq)\n",
    "# N = 400\n",
    "ramp_up_down = np.ones(len(x0) // 2) * 5#np.array([5, 7])\n",
    "delta_alpha = np.ones(len(x0) // 2) * 0.3\n",
    "optimize_samples = True\n",
    "# samples_SAIMIN = sampling.get_samples_SAIMIN(N, eta, len(Delta_poly), Pi_tau_sample, Delta_poly) * t_factors"
   ]
  },
  {
   "cell_type": "markdown",
   "metadata": {},
   "source": [
    "# Union bound (Boole's approximation)\n",
    "Assume the system is standartized $\\left(\\chi \\sim \\mathcal{N}(0, I_n), ~ \\| a_i \\|_2 = 1\\right)$\n",
    "$$\n",
    "\\begin{aligned}\n",
    "\\mathbb{P} \\Bigg\\{ \\forall ~ i ~ \\gamma_i^\\top x + &a_i^\\top \\chi \\leq \\beta_i \\Bigg\\} \\geq 1 - \\eta \\\\\n",
    "&\\Updownarrow \\\\\n",
    "\\mathbb{P} \\Bigg\\{ \\bigcup_{i=1}^J ~ \\gamma_i^\\top x + &a_i^\\top \\chi > \\beta_i \\Bigg\\} \\leq  \\eta\n",
    "\\end{aligned}\n",
    "$$\n",
    "Note that\n",
    "$$\n",
    "\\mathbb{P} \\Bigg\\{ \\bigcup_{i=1}^J ~ \\gamma_i^\\top x + a_i^\\top \\chi > \\beta_i \\Bigg\\} \\leq \\sum_{i=1}^J \\mathbb{P} \\Bigg\\{  \\gamma_i^\\top x + a_i^\\top \\chi > \\beta_i \\Bigg\\}\n",
    "$$\n",
    "Due to the semi-additivity of measure $\\mathbb{P}$. Thus, ensuring R.H.S. to be less thatn $\\eta$, we ensure original probability to be less than $\\eta$ -- conservative approximation."
   ]
  },
  {
   "cell_type": "code",
   "execution_count": 100,
   "metadata": {},
   "outputs": [],
   "source": [
    "N = 100"
   ]
  },
  {
   "cell_type": "markdown",
   "metadata": {},
   "source": [
    "# Solve several scenario approximations"
   ]
  },
  {
   "cell_type": "code",
   "execution_count": 101,
   "metadata": {},
   "outputs": [],
   "source": [
    "# Store sigma and mu, next, the solutions for approximation will be pushed\n",
    "results = {\"Sigma\": [[float(v) for v in row] for row in Sigma], \n",
    "           \"mu\": [float(v) for v in mu]}\n",
    "N0 = 2\n",
    "ks = list(range(1, 10))[::5]\n",
    "L = 10\n",
    "optimize_samples = True\n",
    "np.random.seed(112)"
   ]
  },
  {
   "cell_type": "code",
   "execution_count": 102,
   "metadata": {},
   "outputs": [
    {
     "data": {
      "text/plain": [
       "0"
      ]
     },
     "execution_count": 102,
     "metadata": {},
     "output_type": "execute_result"
    }
   ],
   "source": [
    "np.isnan(Gamma).sum()"
   ]
  },
  {
   "cell_type": "code",
   "execution_count": 103,
   "metadata": {},
   "outputs": [
    {
     "data": {
      "application/vnd.jupyter.widget-view+json": {
       "model_id": "6a485cc44e5b48f495e6e3c3e95995b2",
       "version_major": 2,
       "version_minor": 0
      },
      "text/plain": [
       "  0%|          | 0/2 [00:00<?, ?it/s]"
      ]
     },
     "metadata": {},
     "output_type": "display_data"
    },
    {
     "name": "stdout",
     "output_type": "stream",
     "text": [
      "1  /  6\n",
      "6  /  6\n"
     ]
    }
   ],
   "source": [
    "#parallel and discard useless planes and samples\n",
    "x0_dict = {\"SAIMIN\": x0, \"SCSA\": x0}\n",
    "for k in tqdm(ks):\n",
    "    N = N0 * k\n",
    "    print(k, \" / \", ks[-1])\n",
    "    for l in range(L):\n",
    "        samples_SAIMIN = (\n",
    "            sampling.get_samples_SAIMIN(N, eta, len(Delta_poly), Pi_tau_sample, Delta_poly)\n",
    "            * t_factors\n",
    "        )\n",
    "        # samples_SAIMIN = stats.multivariate_normal(cov=np.diag(t_factors**2)).rvs(size=N)\n",
    "            \n",
    "            \n",
    "        ineqs, eqs = SA.SA_constr_control(\n",
    "            Gamma, Beta, ramp_up_down, T, alpha_0, delta_alpha, samples_SAIMIN\n",
    "        )\n",
    "        SAIMIN_sol, SAIMIN_status = SU.solve_glpk(eqs, ineqs, x0, c)\n",
    "        # res = SU.solve_approximations(Gamma, Beta, Pi_tau_sample, Delta_poly, t_factors, ramp_up_down, T, alpha_0, delta_alpha, N, c, eta, x0, True)\n",
    "        # print(check_feasibility_out_of_sample(np.around(SAIMIN_sol.flatten(), 5), Gamma, ramp_up_down, Beta, T, t_factors, 100000))\n",
    "        samples_SCSA = stats.multivariate_normal(cov=np.diag(t_factors**2)).rvs(size=N)\n",
    "        \n",
    "        ineqs, eqs = SA.SA_constr_control(\n",
    "            Gamma, Beta, ramp_up_down, T, alpha_0, delta_alpha, samples_SCSA\n",
    "        )\n",
    "        SCSA_sol, SCSA_status = SU.solve_glpk(eqs, ineqs, x0, c)\n",
    "        res = {\n",
    "            \"SCSA\": [SCSA_sol.flatten(), SCSA_status],\n",
    "            \"SAIMIN\": [SAIMIN_sol.flatten(), SAIMIN_status],\n",
    "        }\n",
    "        for k__ in res.keys():\n",
    "            res[k__][0] = [float(v) for v in res[k__][0]]\n",
    "        status = True\n",
    "        for v in res.values():\n",
    "            status = status and v[1]\n",
    "        assert status\n",
    "        for k in x0_dict.keys():\n",
    "            x0_dict[k] = res[k][0]\n",
    "        try:\n",
    "            results[N].append(res)\n",
    "        except KeyError:\n",
    "            results[N] = []\n",
    "            results[N].append(res)\n",
    "        # print(check_feasibility_out_of_sample(np.around(res[\"SAIMIN\"][0], 5), Gamma, ramp_up_down, Beta, T, t_factors, 100000))"
   ]
  },
  {
   "cell_type": "markdown",
   "metadata": {},
   "source": [
    "# Unpack results and plot them"
   ]
  },
  {
   "cell_type": "code",
   "execution_count": 104,
   "metadata": {},
   "outputs": [],
   "source": [
    "save_dir = os.path.join(\"..\", \"saves\", grid_name)\n",
    "json_file = os.path.join(\"N_\" + str(N0 * ks[-1]) + \".json\")"
   ]
  },
  {
   "cell_type": "code",
   "execution_count": 105,
   "metadata": {},
   "outputs": [
    {
     "data": {
      "text/plain": [
       "'../saves/grid118/N_12.json'"
      ]
     },
     "execution_count": 105,
     "metadata": {},
     "output_type": "execute_result"
    }
   ],
   "source": [
    "os.path.join(save_dir, json_file)"
   ]
  },
  {
   "cell_type": "code",
   "execution_count": 106,
   "metadata": {},
   "outputs": [],
   "source": [
    "def map_names(results, new_names=['SA-ScenarioApprox', 'SAIS-ScenarioApproxImportanceSampling']):\n",
    "    for r in results.keys():\n",
    "        if r not in [\"Sigma\", \"mu\"]:\n",
    "            for l in results[r]:\n",
    "                keys = list(l.keys())\n",
    "                for i in range(len(keys)):\n",
    "                    l[new_names[i]] = l.pop(keys[i])\n",
    "    return results"
   ]
  },
  {
   "cell_type": "code",
   "execution_count": 107,
   "metadata": {},
   "outputs": [],
   "source": [
    "# try:\n",
    "#     with open(os.path.join(save_dir, json_file), 'w') as fp:\n",
    "#         json.dump(results, fp, indent=4)\n",
    "# except FileNotFoundError:\n",
    "#     os.makedirs(save_dir)\n",
    "#     with open(os.path.join(save_dir, json_file), 'w') as fp:\n",
    "#         json.dump(results, fp, indent=4)"
   ]
  },
  {
   "cell_type": "code",
   "execution_count": 108,
   "metadata": {},
   "outputs": [],
   "source": [
    "# # # load if necessary\n",
    "# with open(os.path.join(save_dir, json_file), 'r') as fp:\n",
    "#     results = json.load(fp)"
   ]
  },
  {
   "cell_type": "code",
   "execution_count": 109,
   "metadata": {},
   "outputs": [],
   "source": [
    "results = map_names(results, new_names=['SA-ScenarioApprox', 'SAIS-ScenarioApproxImportanceSampling'])"
   ]
  },
  {
   "cell_type": "code",
   "execution_count": 110,
   "metadata": {},
   "outputs": [
    {
     "data": {
      "text/plain": [
       "Text(0, 0.5, 'Objective')"
      ]
     },
     "execution_count": 110,
     "metadata": {},
     "output_type": "execute_result"
    },
    {
     "data": {
      "image/png": "[encoded data removed]",
      "text/plain": [
       "<Figure size 1080x360 with 1 Axes>"
      ]
     },
     "metadata": {
      "needs_background": "light"
     },
     "output_type": "display_data"
    }
   ],
   "source": [
    "plt.figure(figsize=(15, 5))\n",
    "def unpack_results(results, c, k, cost_correction_term):\n",
    "    try:\n",
    "        names = list(results[N0][k].keys())\n",
    "    except KeyError:\n",
    "        names = list(results[str(N0)][k].keys())\n",
    "    fns = []\n",
    "    xs = []\n",
    "    for r in results.keys():\n",
    "        if r not in [\"Sigma\", \"mu\"]:\n",
    "            for v in results[r][k].values():\n",
    "                try:\n",
    "                    if len(v[0]) == 0:\n",
    "                        xs.append(np.zeros(A.shape[1]*2))\n",
    "                    else:\n",
    "                        xs.append(v[0])\n",
    "                    fns.append(np.dot(xs[-1], c) + cost_correction_term)\n",
    "                except ValueError:\n",
    "                    fns.append(np.nan)\n",
    "    fns = np.array(fns).reshape(-1, len(names))\n",
    "    xs = np.array(xs).reshape(-1, len(names), A.shape[1]*2)\n",
    "    return fns, xs, names\n",
    "fns, xs, names = unpack_results(results=results, c=c, k=0, cost_correction_term=cost_correction_term)\n",
    "for i in range(fns.shape[1]):\n",
    "    plt.plot(np.array(ks[:len(fns[:, i])]) * N0, fns[:, i], label=names[i])\n",
    "\n",
    "#plt.hlines(y = [res_boole.fun], xmin = 0, xmax = ks[-1] * N0, label='Boole', color='black', linestyle='dotted')\n",
    "plt.legend()\n",
    "plt.xlabel(\"Number of samples\")\n",
    "plt.ylabel(\"Objective\")"
   ]
  },
  {
   "cell_type": "markdown",
   "metadata": {},
   "source": [
    "# Out of sample validation"
   ]
  },
  {
   "cell_type": "code",
   "execution_count": 111,
   "metadata": {},
   "outputs": [],
   "source": [
    "# boole_prob = check_feasibility_out_of_sample(res_boole.x, Gamma, Beta, A, 100000)\n",
    "# check_feasibility_out_of_sample(np.around(SAIMIN_sol.flatten(), 5), Gamma, ramp_up_down, Beta, T, t_factors, 100000)\n",
    "scenarios_probs = np.array([np.apply_along_axis(arr=xs[:, i, :], func1d=lambda x: check_feasibility_out_of_sample(np.around(x, 5), Gamma, ramp_up_down, Beta, T, t_factors, 10000), axis=1) for i in range(len(names))])"
   ]
  },
  {
   "cell_type": "code",
   "execution_count": 112,
   "metadata": {},
   "outputs": [
    {
     "data": {
      "image/png": "[encoded data removed]",
      "text/plain": [
       "<Figure size 432x288 with 1 Axes>"
      ]
     },
     "metadata": {
      "needs_background": "light"
     },
     "output_type": "display_data"
    }
   ],
   "source": [
    "t_ = -1\n",
    "plt.hist(samples_SAIMIN[:, t_], bins=20, edgecolor='black', alpha=0.6)\n",
    "plt.hist(samples_SCSA[:, t_], bins=20, edgecolor='black', alpha=0.6)\n",
    "plt.show()"
   ]
  },
  {
   "cell_type": "code",
   "execution_count": 113,
   "metadata": {},
   "outputs": [
    {
     "data": {
      "image/png": "[encoded data removed]",
      "text/plain": [
       "<Figure size 1080x360 with 1 Axes>"
      ]
     },
     "metadata": {
      "needs_background": "light"
     },
     "output_type": "display_data"
    }
   ],
   "source": [
    "plt.figure(figsize=(15, 5))\n",
    "\n",
    "for i in range(scenarios_probs.shape[0]):\n",
    "    plt.plot(np.array(ks) * N0, scenarios_probs[i,:], label=names[i])\n",
    "\n",
    "# plt.hlines(y = [boole_prob], xmin = 0, xmax = ks[-1] * N0, label='Boole', color='black', linestyle='dotted')\n",
    "plt.hlines(y = [1-eta], xmin = 0, xmax = ks[-1] * N0, label='1-eta', color='red', linestyle='dotted')\n",
    "plt.legend()\n",
    "#plt.yscale('log')\n",
    "#plt.ylim((1-eta-1e-2, 1 + 1e-4))\n",
    "plt.xlabel(\"Number of samples\")\n",
    "plt.ylabel(\"Probability of constraint satisfaction\")\n",
    "plt.show()"
   ]
  },
  {
   "cell_type": "markdown",
   "metadata": {},
   "source": [
    "# Plot results of multiple simulations\n",
    "> 1. Estimates for probability of a solution of approximation to be feasible for original problem ($\\beta$)\n",
    "> 2. Box plots for estimates of probability of satisfying constraints"
   ]
  },
  {
   "cell_type": "code",
   "execution_count": 78,
   "metadata": {},
   "outputs": [
    {
     "data": {
      "application/vnd.jupyter.widget-view+json": {
       "model_id": "2e29111ee29f4df781853d93d408d1c4",
       "version_major": 2,
       "version_minor": 0
      },
      "text/plain": [
       "  0%|          | 0/10 [00:00<?, ?it/s]"
      ]
     },
     "metadata": {},
     "output_type": "display_data"
    }
   ],
   "source": [
    "scenario_prob_estimate = np.zeros((len(names), len(ks)))\n",
    "scenario_probs_several_starts = []\n",
    "for k in tqdm(range(L)):\n",
    "    _, xs, names = unpack_results(results=results, c=c, cost_correction_term=cost_correction_term, k=k)\n",
    "    #boole_prob = check_feasibility_out_of_sample(res_boole.x, Gamma, Beta, A, 100000)\n",
    "    # check_feasibility_out_of_sample(np.around(SAIMIN_sol.flatten(), 5), Gamma, ramp_up_down, Beta, T, t_factors, 100000)\n",
    "    scenarios_probs = np.array([np.apply_along_axis(arr=xs[:, i, :], func1d=lambda x: check_feasibility_out_of_sample(np.around(x, 5), Gamma, ramp_up_down, Beta, T, t_factors, 10000), axis=1) for i in range(len(names))])\n",
    "    scenario_prob_estimate += (scenarios_probs - eta >= 0.)\n",
    "    scenario_probs_several_starts.append(scenarios_probs)\n",
    "scenario_prob_esimate = scenario_prob_estimate / L\n",
    "scenario_probs_several_starts = np.array(np.stack(scenario_probs_several_starts))"
   ]
  },
  {
   "cell_type": "code",
   "execution_count": 57,
   "metadata": {},
   "outputs": [],
   "source": [
    "pd_boxplot = pd.DataFrame({\"N\": [], \"Method\": [], r\"$(\\hat{\\mathbb{P}}_N)_l$\": []})\n",
    "for method_idx in range(scenario_probs_several_starts.shape[1]):\n",
    "    data = scenario_probs_several_starts[:, method_idx, :]\n",
    "    pd_boxplot_tmp = pd.DataFrame({\"N\": [], \"Method\": [], r\"$(\\hat{\\mathbb{P}}_N)_l$\": []})\n",
    "    for i in range(data.shape[0]):\n",
    "        for j in range(data.shape[1]):\n",
    "            pd_boxplot_tmp = pd.concat([pd_boxplot_tmp, pd.DataFrame({\"N\": [ks[j] * N0], \"Method\": [names[method_idx]], r\"$(\\hat{\\mathbb{P}}_N)_l$\": [data[i, j]]})], ignore_index=True)\n",
    "    pd_boxplot = pd.concat([pd_boxplot, pd_boxplot_tmp])"
   ]
  },
  {
   "cell_type": "code",
   "execution_count": 58,
   "metadata": {},
   "outputs": [],
   "source": [
    "#save to csv\n",
    "pandas_name = 'multistarts.csv'\n",
    "pd_boxplot.to_csv(os.path.join(save_dir, pandas_name))"
   ]
  },
  {
   "cell_type": "code",
   "execution_count": 59,
   "metadata": {},
   "outputs": [
    {
     "data": {
      "image/png": "[encoded data removed]",
      "text/plain": [
       "<Figure size 720x720 with 1 Axes>"
      ]
     },
     "metadata": {
      "needs_background": "light"
     },
     "output_type": "display_data"
    }
   ],
   "source": [
    "plt.figure(figsize=(10, 10))\n",
    "fsize = 16\n",
    "figure_path_1_beta = os.path.join(save_dir, \"figures\", \"1_beta_N_\" + str(N0 * ks[-1]) + \".png\")\n",
    "for i in range(len(names)):\n",
    "    pdSeries_tmp = (pd_boxplot.loc[(pd_boxplot[\"Method\"] == names[i]) & (pd_boxplot[\"N\"] > 2)])\n",
    "    #pdSeries_tmp.loc[:, \"Prob_est - 1-eta\"] = pdSeries_tmp[\"Prob_est - 1-eta\"].apply(lambda x: 1.0 if x >= 0 else 0.0)\n",
    "    pdSeries_tmp.loc[:, r\"$(\\hat{\\mathbb{P}}_N)_l$\"] = (pdSeries_tmp[r\"$(\\hat{\\mathbb{P}}_N)_l$\"] > 1-eta).values\n",
    "    pdSeries_tmp = pdSeries_tmp.groupby(\"N\").mean()\n",
    "    x_plot = pdSeries_tmp.index\n",
    "    y_plot = pdSeries_tmp[r\"$(\\hat{\\mathbb{P}}_N)_l$\"].values\n",
    "    plt.plot(x_plot, y_plot, label=names[i], alpha=0.8)\n",
    "    #plt.plot(np.array(ks)[1:] * N0, scenario_prob_esimate[i, 1:], label=names[i])\n",
    "plt.xlabel(\"N\", fontsize=fsize)\n",
    "plt.ylabel(r\"$1 - \\hat{\\delta}$\", fontsize=fsize)\n",
    "plt.grid()\n",
    "plt.legend(prop={'size': fsize})\n",
    "try:\n",
    "    plt.savefig(figure_path_1_beta)\n",
    "    pass\n",
    "except FileNotFoundError:\n",
    "    os.makedirs(os.path.join(save_dir, \"figures\"))\n",
    "    plt.savefig(figure_path_1_beta)"
   ]
  },
  {
   "cell_type": "code",
   "execution_count": 60,
   "metadata": {},
   "outputs": [
    {
     "data": {
      "image/png": "[encoded data removed]",
      "text/plain": [
       "<Figure size 1440x360 with 1 Axes>"
      ]
     },
     "metadata": {
      "needs_background": "light"
     },
     "output_type": "display_data"
    }
   ],
   "source": [
    "figure_path_box = os.path.join(save_dir, \"figures\", \"boxplot_J_N_\" + str(N0 * ks[-1]) + \".png\")\n",
    "plt.figure(figsize=(20, 5))\n",
    "ax = sns.boxplot(x=\"N\", y=r\"$(\\hat{\\mathbb{P}}_N)_l$\", hue=\"Method\",\n",
    "                 data=pd_boxplot[pd_boxplot[\"N\"] > 6], palette=\"Set3\")\n",
    "ax.axhline(1-eta, 0, 1, label=r'$1 - \\eta$', color='black', linewidth=2, alpha=0.7, linestyle='dotted')\n",
    "# plt.ylim((1 - 2 * eta, 1.))\n",
    "plt.legend()\n",
    "#plt.hlines(y = [1-eta], xmin = pd_boxplot[\"N\"].min(), xmax = pd_boxplot[\"N\"].max(), label=r'$1 - \\eta$', color='black', linestyle='dotted')\n",
    "#plt.grid()\n",
    "try:\n",
    "    plt.savefig(figure_path_box)\n",
    "    pass\n",
    "except FileNotFoundError:\n",
    "    os.makedirs(os.path.join(save_dir, \"figures\"))\n",
    "    plt.savefig(figure_path_box)\n"
   ]
  },
  {
   "cell_type": "code",
   "execution_count": null,
   "metadata": {},
   "outputs": [],
   "source": []
  }
 ],
 "metadata": {
  "interpreter": {
   "hash": "d444a3350dc4e2327094db8cadbbcafc9f4054d613116ca79683144239545e79"
  },
  "kernelspec": {
   "display_name": "Python 3",
   "language": "python",
   "name": "python3"
  },
  "language_info": {
   "codemirror_mode": {
    "name": "ipython",
    "version": 3
   },
   "file_extension": ".py",
   "mimetype": "text/x-python",
   "name": "python",
   "nbconvert_exporter": "python",
   "pygments_lexer": "ipython3",
   "version": "3.9.13"
  }
 },
 "nbformat": 4,
 "nbformat_minor": 2
}
